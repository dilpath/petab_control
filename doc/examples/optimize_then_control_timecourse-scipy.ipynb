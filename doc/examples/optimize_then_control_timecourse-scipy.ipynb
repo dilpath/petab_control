{
 "cells": [
  {
   "cell_type": "code",
   "execution_count": 1,
   "id": "24380085",
   "metadata": {
    "scrolled": false
   },
   "outputs": [],
   "source": [
    "from pathlib import Path\n",
    "import shutil\n",
    "\n",
    "import amici\n",
    "from amici.petab_import import import_petab_problem\n",
    "from amici.plotting import plotObservableTrajectories\n",
    "import matplotlib.pyplot as plt\n",
    "from more_itertools import one\n",
    "import numpy as np\n",
    "import pandas as pd\n",
    "import petab\n",
    "from petab.C import (\n",
    "    TIME,\n",
    "    ESTIMATE,\n",
    "    MEASUREMENT,\n",
    "    NOMINAL_VALUE,\n",
    ")\n",
    "import yaml2sbml\n",
    "\n",
    "# Optimization\n",
    "import pypesto.engine\n",
    "import pypesto.objective\n",
    "import pypesto.optimize\n",
    "import pypesto.petab\n",
    "import pypesto.visualize\n",
    "\n",
    "# Optimal control\n",
    "import petab_control\n",
    "import petab_control.problem\n",
    "from petab_control.constants import (\n",
    "    CONTROL_TIMECOURSE_ID,\n",
    "    PERIODS_RESULTS,\n",
    ")\n",
    "from petab_control.problem import (\n",
    "    LLH,\n",
    "    SLLH,\n",
    ")\n",
    "\n",
    "# Timecourse\n",
    "import petab_timecourse\n",
    "from petab_timecourse import Timecourse\n",
    "\n",
    "# Helpers\n",
    "def plot(\n",
    "    rdata,\n",
    "    model,\n",
    "    estimate_petab_problem,\n",
    "    control_petab_problem = None,\n",
    "):\n",
    "    fig, ax = plt.subplots()\n",
    "    ax.scatter(\n",
    "        estimate_petab_problem.measurement_df[petab.C.TIME],\n",
    "        estimate_petab_problem.measurement_df[petab.C.MEASUREMENT],\n",
    "        label='Real measurements for fitting.',\n",
    "        color='blue',\n",
    "    )\n",
    "    if control_petab_problem is not None:\n",
    "        ax.scatter(\n",
    "            control_petab_problem.measurement_df[petab.C.TIME],\n",
    "            control_petab_problem.measurement_df[petab.C.MEASUREMENT],\n",
    "            label='Target measurements for control.',\n",
    "            color='orange',\n",
    "        )\n",
    "    plotObservableTrajectories(rdata, model=model, ax=ax)\n",
    "    #ax.axvline(1)\n",
    "    #ax.axvline(20)\n",
    "    #ax.axhline(0.5)\n",
    "    ax.axvspan(0, 20, facecolor='blue', alpha=0.1)\n",
    "    ax.axvspan(20, 100, facecolor='orange', alpha=0.1)\n",
    "    ax.set_ylim(0,1)\n",
    "    return ax, rdata\n",
    "\n",
    "# Plotted time\n",
    "end_time = 100\n",
    "\n",
    "# The same optimizer, optimization engine, and number of starts is\n",
    "# used for both estimation and optimal control, for this toy model.\n",
    "optimizer = pypesto.optimize.FidesOptimizer()\n",
    "#engine = pypesto.engine.MultiProcessEngine()\n",
    "engine = pypesto.engine.SingleCoreEngine()\n",
    "\n",
    "n_starts = 8"
   ]
  },
  {
   "cell_type": "code",
   "execution_count": 2,
   "id": "e7562865",
   "metadata": {},
   "outputs": [],
   "source": [
    "# Setup PEtab problem\n",
    "input_path = Path('input') / 'optimize_then_control'\n",
    "output_path = Path('output') / 'optimize_then_control'\n",
    "petab_output_path = output_path / 'petab'\n",
    "petab_output_path.mkdir(parents=True, exist_ok=True)\n",
    "\n",
    "if True:\n",
    "    shutil.rmtree(petab_output_path)\n",
    "    shutil.copytree(input_path / 'petab', petab_output_path)\n",
    "    yaml2sbml.yaml2sbml(\n",
    "        str(input_path / 'model.yaml'),\n",
    "        str(petab_output_path / 'estimate' / 'model.xml'),\n",
    "    )\n",
    "\n",
    "estimate_petab_problem = petab_timecourse.Problem.from_yaml(\n",
    "    petab_output_path / 'estimate' / 'petab_problem.yaml',\n",
    "    timecourse_file=petab_output_path / 'estimate' / 'timecourse.tsv',\n",
    ")\n",
    "\n",
    "# Optimize estimate problem to estimate patient-specific parameters\n",
    "## Setup\n",
    "model_output_path = output_path / 'models'\n",
    "estimate_model_output_path = model_output_path / 'estimate'"
   ]
  },
  {
   "cell_type": "code",
   "execution_count": 3,
   "id": "3e5a5497",
   "metadata": {},
   "outputs": [],
   "source": [
    "# Setup PEtab control problem\n",
    "control_petab_output_path = output_path / 'control_petab'\n",
    "control_petab_output_path.mkdir(parents=True, exist_ok=True)\n",
    "\n",
    "control_problem = petab_control.Problem.from_yaml(\n",
    "    yaml_path=input_path / 'petab' / 'control' / 'petab_control_problem.yaml',\n",
    ")"
   ]
  },
  {
   "cell_type": "code",
   "execution_count": 4,
   "id": "13acc5ca",
   "metadata": {
    "scrolled": false
   },
   "outputs": [],
   "source": [
    "from petab_timecourse.amici import collect_x, collect_sx, collect_t, remove_duplicates\n",
    "\n",
    "from petab_timecourse.simulator import AmiciSimulator\n",
    "\n",
    "model_settings = {\n",
    "    'setAlwaysCheckFinite': True,\n",
    "}\n",
    "\n",
    "solver_settings = {\n",
    "    'setAbsoluteTolerance': 1e-8,\n",
    "    'setRelativeTolerance': 1e-6,\n",
    "    'setSensitivityOrder': amici.SensitivityOrder.first,\n",
    "    'setSensitivityMethod': amici.SensitivityMethod.forward,\n",
    "}\n",
    "\n",
    "estimated_parameters = {\n",
    "    'decay': 0.010658565449186457,\n",
    "    'substrate0': 0.8109781420306815,\n",
    "}\n",
    "# FIXME\n",
    "estimated_parameters = {\n",
    "    'decay': 1.0,\n",
    "    'substrate0': 0.8109781420306815,\n",
    "}\n",
    "\n",
    "default_problem_parameters = {\n",
    "    **estimated_parameters,\n",
    "    'influx': 0,\n",
    "}\n",
    "\n",
    "control_problem.setup_simulator(\n",
    "    simulator_class=AmiciSimulator,\n",
    "    petab_problem=estimate_petab_problem,\n",
    "    timecourse_id='timecourse1',\n",
    "    default_problem_parameters=default_problem_parameters,\n",
    "    model_settings=model_settings,\n",
    "    solver_settings=solver_settings,\n",
    ")"
   ]
  },
  {
   "cell_type": "code",
   "execution_count": 5,
   "id": "c5a9969f",
   "metadata": {},
   "outputs": [
    {
     "name": "stdout",
     "output_type": "stream",
     "text": [
      "{'influx_00': 0.3, 'influx_20': 0.1, 'influx_40': 0.3, 'influx_60': 0.5, 'influx_80': 0.8}\n"
     ]
    }
   ],
   "source": [
    "problem_parameter_ids = [\n",
    "    f'influx_{id_}'\n",
    "    for id_ in [\n",
    "        '00',\n",
    "        '20',\n",
    "        '40',\n",
    "        '60',\n",
    "        '80',\n",
    "    ]\n",
    "]\n",
    "\n",
    "problem_parameters = {\n",
    "    'influx_00': 0.3,\n",
    "    'influx_20': 0.1,\n",
    "    'influx_40': 0.3,\n",
    "    'influx_60': 0.5,\n",
    "    'influx_80': 0.8,\n",
    "}\n",
    "\n",
    "problem_parameters = {\n",
    "    problem_parameter_id: 0.1\n",
    "    for problem_parameter_id in problem_parameter_ids\n",
    "}\n",
    "\n",
    "problem_parameters = {\n",
    "    'influx_00': 0.3,\n",
    "    'influx_20': 0.1,\n",
    "    'influx_40': 0.3,\n",
    "    'influx_60': 0.5,\n",
    "    'influx_80': 0.8,\n",
    "}\n",
    "\n",
    "#problem_parameters = {\n",
    "#    parameter_id: np.log10(parameter_value)\n",
    "#    for parameter_id, parameter_value in problem_parameters.items()\n",
    "#}\n",
    "\n",
    "print(problem_parameters)"
   ]
  },
  {
   "cell_type": "code",
   "execution_count": 6,
   "id": "b5e0cdd4",
   "metadata": {},
   "outputs": [],
   "source": [
    "# Run once to set timepoints in edata objects\n",
    "# The next cell adds fake timepoints\n",
    "# Unnecessary as the time period information, which is used to\n",
    "# choose fake timepoints, is in the Timecourse object.\n",
    "_ = control_problem.simulate(problem_parameters=problem_parameters)"
   ]
  },
  {
   "cell_type": "code",
   "execution_count": 7,
   "id": "e06d46f7",
   "metadata": {},
   "outputs": [],
   "source": [
    "from petab_timecourse.amici import add_output_timepoints_if_missing\n",
    "if True:\n",
    "    # Fake timepoints for more simulation output\n",
    "    for edata, period in zip(\n",
    "        control_problem.simulator.amici_edata_periods,\n",
    "        control_problem.simulator.timecourse.periods,\n",
    "    ):\n",
    "        current_timepoints = edata.getTimepoints()\n",
    "        add_output_timepoints_if_missing(\n",
    "            amici_edata=edata,\n",
    "            timepoints=np.linspace(current_timepoints[0], current_timepoints[-1], 101)\n",
    "        )"
   ]
  },
  {
   "cell_type": "code",
   "execution_count": 8,
   "id": "ff9cef23",
   "metadata": {
    "scrolled": false
   },
   "outputs": [
    {
     "data": {
      "text/plain": [
       "<matplotlib.collections.PathCollection at 0x7f055c595cd0>"
      ]
     },
     "execution_count": 8,
     "metadata": {},
     "output_type": "execute_result"
    },
    {
     "data": {
      "image/png": "[encoded data removed]",
      "text/plain": [
       "<Figure size 720x720 with 1 Axes>"
      ]
     },
     "metadata": {
      "needs_background": "light"
     },
     "output_type": "display_data"
    }
   ],
   "source": [
    "results = control_problem.simulate(problem_parameters=problem_parameters)\n",
    "\n",
    "x_ = collect_x(results[PERIODS_RESULTS])\n",
    "sx_ = collect_sx(results[PERIODS_RESULTS])\n",
    "t_ = collect_t(results[PERIODS_RESULTS])\n",
    "\n",
    "T, X, SX = remove_duplicates(t_, x_, sx_)\n",
    "\n",
    "import matplotlib.pyplot as plt\n",
    "fig, ax = plt.subplots(figsize=(10,10))\n",
    "ax.plot(T, X, lw=5, label='Simulated state')\n",
    "ax.legend()\n",
    "ax.set_title('State trajectory')\n",
    "\n",
    "mT = control_problem.simulator.petab_problem.measurement_df[TIME]\n",
    "mX = control_problem.simulator.petab_problem.measurement_df[MEASUREMENT]\n",
    "\n",
    "ax.scatter(mT, mX, lw=5, label='Measured state')"
   ]
  },
  {
   "cell_type": "code",
   "execution_count": 9,
   "id": "d350a6a0",
   "metadata": {},
   "outputs": [],
   "source": [
    "import copy\n",
    "\n",
    "estimated_parameter_id = 'influx_40'\n",
    "estimated_parameter_id_amici = 'influx'\n",
    "\n",
    "estimated_parameter_period_indices = control_problem.simulator_control_parameters[estimated_parameter_id]['periods']\n",
    "\n",
    "def simulate(p, problem_parameters=problem_parameters):\n",
    "    \"\"\"\n",
    "    if len(p) == 1:\n",
    "        problem_parameters[estimated_parameter_id] = one(p)\n",
    "        results = control_problem.simulate(problem_parameters=problem_parameters)\n",
    "    else:\n",
    "        problem_parameters0 = copy.deepcopy(problem_parameters)\n",
    "        for parameter_index, parameter_id in enumerate(problem_parameters):\n",
    "            problem_parameters[parameter_id] = p[parameter_index]\n",
    "        results = control_problem.simulate(problem_parameters=problem_parameters)\n",
    "        problem_parameters = copy.deepcopy(problem_parameters0)\n",
    "    \"\"\"\n",
    "    problem_parameters[estimated_parameter_id] = one(p)\n",
    "    results = control_problem.simulate(problem_parameters=problem_parameters)\n",
    "    \n",
    "    nllh = -results[LLH]\n",
    "    \n",
    "    sllh = 0\n",
    "    for period in estimated_parameter_period_indices:\n",
    "        sllh += results[PERIODS_RESULTS][period][SLLH][estimated_parameter_id_amici]\n",
    "    \n",
    "    snllh = -sllh\n",
    "    \n",
    "    return nllh, snllh\n",
    "\n",
    "def fun(p):\n",
    "    return simulate(p)[0]\n",
    "\n",
    "def grad(p):\n",
    "    return simulate(p)[1]"
   ]
  },
  {
   "cell_type": "code",
   "execution_count": 10,
   "id": "69d54254",
   "metadata": {},
   "outputs": [],
   "source": [
    "import scipy.optimize\n",
    "\n",
    "res = scipy.optimize.minimize(\n",
    "    fun=fun,\n",
    "    x0=[8],\n",
    "    method='l-bfgs-b',\n",
    "    jac=grad,\n",
    "    bounds=[(0.0001, 10)],\n",
    ")"
   ]
  },
  {
   "cell_type": "code",
   "execution_count": 11,
   "id": "0c88ecaa",
   "metadata": {},
   "outputs": [
    {
     "name": "stdout",
     "output_type": "stream",
     "text": [
      "      fun: 63.08936834214841\n",
      " hess_inv: <1x1 LbfgsInvHessProduct with dtype=float64>\n",
      "      jac: array([-0.41366022])\n",
      "  message: 'CONVERGENCE: REL_REDUCTION_OF_F_<=_FACTR*EPSMCH'\n",
      "     nfev: 51\n",
      "      nit: 6\n",
      "     njev: 51\n",
      "   status: 0\n",
      "  success: True\n",
      "        x: array([0.8135848])\n",
      "{'influx_00': 0.3, 'influx_20': 0.1, 'influx_40': 0.8135847960361728, 'influx_60': 0.5, 'influx_80': 0.8}\n"
     ]
    }
   ],
   "source": [
    "print(res)\n",
    "problem_parameters[estimated_parameter_id] = one(res.x)\n",
    "print(problem_parameters)"
   ]
  },
  {
   "cell_type": "code",
   "execution_count": 12,
   "id": "f08e38df",
   "metadata": {},
   "outputs": [
    {
     "name": "stdout",
     "output_type": "stream",
     "text": [
      "{'influx_00': 0.3, 'influx_20': 0.1, 'influx_40': 0.8135847960361728, 'influx_60': 0.5, 'influx_80': 0.8}\n"
     ]
    },
    {
     "data": {
      "image/png": "[encoded data removed]",
      "text/plain": [
       "<Figure size 720x720 with 1 Axes>"
      ]
     },
     "metadata": {
      "needs_background": "light"
     },
     "output_type": "display_data"
    }
   ],
   "source": [
    "print(problem_parameters)\n",
    "results = control_problem.simulate(problem_parameters=problem_parameters)\n",
    "\n",
    "x_ = collect_x(results[PERIODS_RESULTS])\n",
    "sx_ = collect_sx(results[PERIODS_RESULTS])\n",
    "t_ = collect_t(results[PERIODS_RESULTS])\n",
    "\n",
    "T, X, SX = remove_duplicates(t_, x_, sx_)\n",
    "\n",
    "import matplotlib.pyplot as plt\n",
    "fig, ax = plt.subplots(figsize=(10,10))\n",
    "ax.plot(T, X, lw=5, label='Simulated state')\n",
    "ax.legend()\n",
    "ax.set_title('State trajectory')\n",
    "\n",
    "mT = control_problem.simulator.petab_problem.measurement_df[TIME]\n",
    "mX = control_problem.simulator.petab_problem.measurement_df[MEASUREMENT]\n",
    "\n",
    "#ax.set_yscale('log')\n",
    "\n",
    "ax.scatter(mT, mX, lw=5, label='Measured state');"
   ]
  },
  {
   "cell_type": "code",
   "execution_count": 13,
   "id": "bca78a1f",
   "metadata": {},
   "outputs": [
    {
     "data": {
      "text/plain": [
       "\"\\ndata = {\\n    'parameter_value': [],\\n    'nllh': [],\\n    'snllh': [],\\n    'nllh2': [],\\n    'snllh2': [],\\n}\\n\\nfor parameter_value in sorted(set([*np.linspace(0, 10, 11), *np.linspace(0.9, 1.1, 21)])):\\n    problem_parameters[estimated_parameter_id] = parameter_value\\n    results = control_problem.simulate(problem_parameters=problem_parameters)\\n    nllh = -results[LLH]\\n    snllh = -results[SLLH][estimated_parameter_id]\\n    data['parameter_value'].append(parameter_value)\\n    data['nllh'].append(nllh)\\n    data['snllh'].append(snllh)\\n\\n    nllh2, snllh2 = simulate([parameter_value])\\n    data['nllh2'].append(nllh2)\\n    data['snllh2'].append(snllh2)\\n\\ndf = pd.DataFrame(data=data)\\n\\ndf['nllh_diff'] = df['nllh2'] - df['nllh']\\ndf['snllh_diff'] = df['snllh2'] - df['snllh']\\n\\nprint(df)\\n\""
      ]
     },
     "execution_count": 13,
     "metadata": {},
     "output_type": "execute_result"
    }
   ],
   "source": [
    "\"\"\"\n",
    "data = {\n",
    "    'parameter_value': [],\n",
    "    'nllh': [],\n",
    "    'snllh': [],\n",
    "    'nllh2': [],\n",
    "    'snllh2': [],\n",
    "}\n",
    "\n",
    "for parameter_value in sorted(set([*np.linspace(0, 10, 11), *np.linspace(0.9, 1.1, 21)])):\n",
    "    problem_parameters[estimated_parameter_id] = parameter_value\n",
    "    results = control_problem.simulate(problem_parameters=problem_parameters)\n",
    "    nllh = -results[LLH]\n",
    "    snllh = -results[SLLH][estimated_parameter_id]\n",
    "    data['parameter_value'].append(parameter_value)\n",
    "    data['nllh'].append(nllh)\n",
    "    data['snllh'].append(snllh)\n",
    "\n",
    "    nllh2, snllh2 = simulate([parameter_value])\n",
    "    data['nllh2'].append(nllh2)\n",
    "    data['snllh2'].append(snllh2)\n",
    "\n",
    "df = pd.DataFrame(data=data)\n",
    "\n",
    "df['nllh_diff'] = df['nllh2'] - df['nllh']\n",
    "df['snllh_diff'] = df['snllh2'] - df['snllh']\n",
    "\n",
    "print(df)\n",
    "\"\"\""
   ]
  }
 ],
 "metadata": {
  "kernelspec": {
   "display_name": "Python 3",
   "language": "python",
   "name": "python3"
  },
  "language_info": {
   "codemirror_mode": {
    "name": "ipython",
    "version": 3
   },
   "file_extension": ".py",
   "mimetype": "text/x-python",
   "name": "python",
   "nbconvert_exporter": "python",
   "pygments_lexer": "ipython3",
   "version": "3.8.10"
  }
 },
 "nbformat": 4,
 "nbformat_minor": 5
}
