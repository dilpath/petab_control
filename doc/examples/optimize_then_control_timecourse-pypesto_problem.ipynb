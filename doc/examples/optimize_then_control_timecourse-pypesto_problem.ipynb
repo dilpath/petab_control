{
 "cells": [
  {
   "cell_type": "code",
   "execution_count": 1,
   "id": "24380085",
   "metadata": {
    "scrolled": false
   },
   "outputs": [],
   "source": [
    "import copy\n",
    "import logging\n",
    "from pathlib import Path\n",
    "import shutil\n",
    "\n",
    "import amici\n",
    "from amici.petab_import import import_petab_problem\n",
    "from amici.plotting import plotObservableTrajectories\n",
    "import matplotlib.pyplot as plt\n",
    "from more_itertools import one\n",
    "import numpy as np\n",
    "import pandas as pd\n",
    "import petab\n",
    "from petab.C import (\n",
    "    TIME,\n",
    "    ESTIMATE,\n",
    "    MEASUREMENT,\n",
    "    NOMINAL_VALUE,\n",
    ")\n",
    "import yaml2sbml\n",
    "\n",
    "# Optimization\n",
    "import pypesto.engine\n",
    "import pypesto.objective\n",
    "import pypesto.optimize\n",
    "import pypesto.petab\n",
    "import pypesto.visualize\n",
    "\n",
    "# Optimal control\n",
    "import petab_control\n",
    "import petab_control.problem\n",
    "from petab_control.constants import (\n",
    "    CONTROL_TIMECOURSE_ID,\n",
    "    PERIODS_RESULTS,\n",
    ")\n",
    "from petab_control.problem import (\n",
    "    LLH,\n",
    "    SLLH,\n",
    "    get_control_petab_problem,\n",
    ")\n",
    "\n",
    "# Timecourse\n",
    "import petab_timecourse\n",
    "from petab_timecourse import Timecourse\n",
    "\n",
    "# Helpers\n",
    "def plot(\n",
    "    rdata,\n",
    "    model,\n",
    "    estimate_petab_problem,\n",
    "    control_petab_problem = None,\n",
    "):\n",
    "    fig, ax = plt.subplots()\n",
    "    ax.scatter(\n",
    "        estimate_petab_problem.measurement_df[petab.C.TIME],\n",
    "        estimate_petab_problem.measurement_df[petab.C.MEASUREMENT],\n",
    "        label='Real measurements for fitting.',\n",
    "        color='blue',\n",
    "    )\n",
    "\n",
    "    if control_petab_problem is not None:\n",
    "        ax.scatter(\n",
    "            control_petab_problem.measurement_df[petab.C.TIME],\n",
    "            control_petab_problem.measurement_df[petab.C.MEASUREMENT],\n",
    "            label='Target measurements for control.',\n",
    "            color='orange',\n",
    "        )\n",
    "\n",
    "    plotObservableTrajectories(rdata, model=model, ax=ax)\n",
    "    ax.axvspan(0, 20, facecolor='blue', alpha=0.1)\n",
    "    ax.axvspan(20, 100, facecolor='orange', alpha=0.1)\n",
    "    ax.set_ylim(0,1)\n",
    "    return ax, rdata\n",
    "\n",
    "# Plotted time\n",
    "end_time = 100\n",
    "\n",
    "\n",
    "# The same optimizer, optimization engine, and number of starts is\n",
    "# used for both estimation and optimal control, for this toy model.\n",
    "optimizer = pypesto.optimize.FidesOptimizer(verbose=logging.WARNING)\n",
    "#engine = pypesto.engine.MultiProcessEngine()\n",
    "engine = pypesto.engine.SingleCoreEngine()\n",
    "\n",
    "n_starts = 8"
   ]
  },
  {
   "cell_type": "code",
   "execution_count": 2,
   "id": "e7562865",
   "metadata": {},
   "outputs": [],
   "source": [
    "# Setup PEtab problem\n",
    "input_path = Path('input') / 'optimize_then_control'\n",
    "output_path = Path('output') / 'optimize_then_control'\n",
    "petab_output_path = output_path / 'petab'\n",
    "petab_output_path.mkdir(parents=True, exist_ok=True)\n",
    "\n",
    "#if not petab_output_path.exists():\n",
    "if True:\n",
    "    shutil.rmtree(petab_output_path)\n",
    "    shutil.copytree(input_path / 'petab', petab_output_path)\n",
    "    yaml2sbml.yaml2sbml(\n",
    "        str(input_path / 'model.yaml'),\n",
    "        str(petab_output_path / 'estimate' / 'model.xml'),\n",
    "    )\n",
    "\n",
    "estimate_petab_problem = petab_timecourse.Problem.from_yaml(\n",
    "    petab_output_path / 'estimate' / 'petab_problem.yaml',\n",
    "    timecourse_file=petab_output_path / 'estimate' / 'timecourse.tsv',\n",
    ")\n",
    "\n",
    "# Optimize estimate problem to estimate patient-specific parameters\n",
    "## Setup\n",
    "model_output_path = output_path / 'models'\n",
    "estimate_model_output_path = model_output_path / 'estimate'"
   ]
  },
  {
   "cell_type": "code",
   "execution_count": 3,
   "id": "3e5a5497",
   "metadata": {},
   "outputs": [],
   "source": [
    "# Setup PEtab control problem\n",
    "control_petab_output_path = output_path / 'control_petab'\n",
    "control_petab_output_path.mkdir(parents=True, exist_ok=True)\n",
    "\n",
    "control_problem = petab_control.Problem.from_yaml(\n",
    "    yaml_path=input_path / 'petab' / 'control' / 'petab_control_problem.yaml',\n",
    ")"
   ]
  },
  {
   "cell_type": "code",
   "execution_count": 4,
   "id": "c63833df",
   "metadata": {},
   "outputs": [],
   "source": [
    "control_petab_problem = get_control_petab_problem(\n",
    "    petab_control_problem=control_problem,\n",
    "    petab_problem=estimate_petab_problem,\n",
    "    timecourse_id='timecourse1',\n",
    ")"
   ]
  },
  {
   "cell_type": "code",
   "execution_count": 5,
   "id": "13acc5ca",
   "metadata": {},
   "outputs": [],
   "source": [
    "from petab_timecourse.amici import collect_x, collect_sx, collect_t, remove_duplicates\n",
    "\n",
    "from petab_timecourse.simulator import AmiciSimulator\n",
    "\n",
    "model_settings = {\n",
    "    'setAlwaysCheckFinite': True,\n",
    "}\n",
    "\n",
    "solver_settings = {\n",
    "    'setAbsoluteTolerance': 1e-8,\n",
    "    'setRelativeTolerance': 1e-6,\n",
    "    'setSensitivityOrder': amici.SensitivityOrder.first,\n",
    "    'setSensitivityMethod': amici.SensitivityMethod.forward,\n",
    "}\n",
    "\n",
    "estimated_parameters = {\n",
    "    'decay': 0.010658565449186457,\n",
    "    'substrate0': 0.8109781420306815,\n",
    "}\n",
    "\n",
    "# FIXME use result from optimizing original problem\n",
    "estimated_parameters = {\n",
    "    'decay': 1.0,\n",
    "    'substrate0': 0.8109781420306815,\n",
    "}\n",
    "\n",
    "default_problem_parameters = {\n",
    "    **estimated_parameters,\n",
    "    'influx': 0.1,\n",
    "}"
   ]
  },
  {
   "cell_type": "code",
   "execution_count": 6,
   "id": "483a4c49",
   "metadata": {},
   "outputs": [],
   "source": [
    "estimated_petab_problem = copy.deepcopy(estimate_petab_problem)\n",
    "estimated_petab_problem.parameter_df[ESTIMATE] = 0\n",
    "\n",
    "setup_simulator_kwargs = {\n",
    "    'simulator_class': AmiciSimulator,\n",
    "    'petab_problem': estimate_petab_problem,\n",
    "    'timecourse_id': 'timecourse1',\n",
    "    'default_problem_parameters': default_problem_parameters,\n",
    "    'model_settings': model_settings,\n",
    "    'solver_settings': solver_settings,\n",
    "    'fix_petab_problem_parameters': estimated_parameters,\n",
    "}\n",
    "\n",
    "control_model_output_path = model_output_path / 'control'\n",
    "\n",
    "petab_importer_kwargs = {\n",
    "    'output_folder': str(control_model_output_path),\n",
    "    'validate_petab': False,\n",
    "}\n",
    "\n",
    "create_problem_kwargs = {\n",
    "    'copy_objective': False,\n",
    "}"
   ]
  },
  {
   "cell_type": "code",
   "execution_count": 7,
   "id": "949b7529",
   "metadata": {},
   "outputs": [
    {
     "data": {
      "text/plain": [
       "[<petab_timecourse.timecourse.Period at 0x7ffb586b2cd0>]"
      ]
     },
     "execution_count": 7,
     "metadata": {},
     "output_type": "execute_result"
    }
   ],
   "source": [
    "Timecourse.from_df(\n",
    "    timecourse_df=estimate_petab_problem.timecourse_df,\n",
    "    timecourse_id='timecourse1',\n",
    ").periods"
   ]
  },
  {
   "cell_type": "code",
   "execution_count": 8,
   "id": "b02df927",
   "metadata": {
    "scrolled": false
   },
   "outputs": [],
   "source": [
    "pypesto_problem = petab_control.objective.get_pypesto_problem(\n",
    "    petab_control_problem=control_problem,\n",
    "    setup_simulator_kwargs=setup_simulator_kwargs,\n",
    "    petab_importer_kwargs=petab_importer_kwargs,\n",
    ")"
   ]
  },
  {
   "cell_type": "code",
   "execution_count": 9,
   "id": "4f330f8a",
   "metadata": {},
   "outputs": [],
   "source": [
    "solver_settings = {\n",
    "    #'setAbsoluteTolerance': 1e-8,\n",
    "    #'setRelativeTolerance': 1e-6,\n",
    "}\n",
    "\n",
    "for setting, value in solver_settings.items():\n",
    "    getattr(control_problem.simulator.amici_solver, setting)(value)"
   ]
  },
  {
   "cell_type": "code",
   "execution_count": 10,
   "id": "9d737f07",
   "metadata": {
    "scrolled": false
   },
   "outputs": [
    {
     "name": "stderr",
     "output_type": "stream",
     "text": [
      "  0%|          | 0/10 [00:00<?, ?it/s]WARNING:root:Fides is using BFGS as hessian approximation, as the problem does not provide a Hessian. Specify a Hessian to use a more efficient hybrid approximation scheme.\n",
      "2022-06-01 14:24:05 fides(WARNING) Stopping as function difference 2.84E-14 was smaller than specified tolerances (atol=1.00E-08, rtol=1.00E-08)\n",
      "WARNING:fides_1:Stopping as function difference 2.84E-14 was smaller than specified tolerances (atol=1.00E-08, rtol=1.00E-08)\n",
      " 10%|█         | 1/10 [00:01<00:17,  1.93s/it]WARNING:root:Fides is using BFGS as hessian approximation, as the problem does not provide a Hessian. Specify a Hessian to use a more efficient hybrid approximation scheme.\n",
      "2022-06-01 14:24:11 fides(WARNING) Stopping as function difference 3.55E-15 was smaller than specified tolerances (atol=1.00E-08, rtol=1.00E-08)\n",
      "WARNING:fides_2:Stopping as function difference 3.55E-15 was smaller than specified tolerances (atol=1.00E-08, rtol=1.00E-08)\n",
      " 20%|██        | 2/10 [00:07<00:32,  4.09s/it]WARNING:root:Fides is using BFGS as hessian approximation, as the problem does not provide a Hessian. Specify a Hessian to use a more efficient hybrid approximation scheme.\n",
      "2022-06-01 14:24:14 fides(WARNING) Stopping as trust region radius 1.53E-16 is smaller than machine precision.\n",
      "WARNING:fides_3:Stopping as trust region radius 1.53E-16 is smaller than machine precision.\n",
      " 30%|███       | 3/10 [00:11<00:27,  3.91s/it]WARNING:root:Fides is using BFGS as hessian approximation, as the problem does not provide a Hessian. Specify a Hessian to use a more efficient hybrid approximation scheme.\n",
      "2022-06-01 14:24:20 fides(WARNING) Stopping as trust region radius 7.81E-17 is smaller than machine precision.\n",
      "WARNING:fides_4:Stopping as trust region radius 7.81E-17 is smaller than machine precision.\n",
      " 40%|████      | 4/10 [00:16<00:27,  4.55s/it]WARNING:root:Fides is using BFGS as hessian approximation, as the problem does not provide a Hessian. Specify a Hessian to use a more efficient hybrid approximation scheme.\n",
      "2022-06-01 14:24:23 fides(WARNING) Stopping as function difference 3.55E-15 was smaller than specified tolerances (atol=1.00E-08, rtol=1.00E-08)\n",
      "WARNING:fides_5:Stopping as function difference 3.55E-15 was smaller than specified tolerances (atol=1.00E-08, rtol=1.00E-08)\n",
      " 50%|█████     | 5/10 [00:20<00:21,  4.23s/it]WARNING:root:Fides is using BFGS as hessian approximation, as the problem does not provide a Hessian. Specify a Hessian to use a more efficient hybrid approximation scheme.\n",
      "2022-06-01 14:24:50 fides(WARNING) Stopping as trust region radius 8.41E-17 is smaller than machine precision.\n",
      "WARNING:fides_6:Stopping as trust region radius 8.41E-17 is smaller than machine precision.\n",
      " 60%|██████    | 6/10 [00:46<00:47, 11.81s/it]WARNING:root:Fides is using BFGS as hessian approximation, as the problem does not provide a Hessian. Specify a Hessian to use a more efficient hybrid approximation scheme.\n",
      "2022-06-01 14:24:52 fides(WARNING) Stopping as function difference 3.95E-08 was smaller than specified tolerances (atol=1.00E-08, rtol=1.00E-08)\n",
      "WARNING:fides_7:Stopping as function difference 3.95E-08 was smaller than specified tolerances (atol=1.00E-08, rtol=1.00E-08)\n",
      " 70%|███████   | 7/10 [00:49<00:26,  8.74s/it]WARNING:root:Fides is using BFGS as hessian approximation, as the problem does not provide a Hessian. Specify a Hessian to use a more efficient hybrid approximation scheme.\n",
      "2022-06-01 14:24:55 fides(WARNING) Stopping as function difference 1.26E-08 was smaller than specified tolerances (atol=1.00E-08, rtol=1.00E-08)\n",
      "WARNING:fides_8:Stopping as function difference 1.26E-08 was smaller than specified tolerances (atol=1.00E-08, rtol=1.00E-08)\n",
      " 80%|████████  | 8/10 [00:51<00:13,  6.62s/it]WARNING:root:Fides is using BFGS as hessian approximation, as the problem does not provide a Hessian. Specify a Hessian to use a more efficient hybrid approximation scheme.\n",
      "2022-06-01 14:24:57 fides(WARNING) Stopping as trust region radius 6.04E-17 is smaller than machine precision.\n",
      "WARNING:fides_9:Stopping as trust region radius 6.04E-17 is smaller than machine precision.\n",
      " 90%|█████████ | 9/10 [00:54<00:05,  5.47s/it]WARNING:root:Fides is using BFGS as hessian approximation, as the problem does not provide a Hessian. Specify a Hessian to use a more efficient hybrid approximation scheme.\n",
      "2022-06-01 14:25:04 fides(WARNING) Stopping as trust region radius 6.14E-17 is smaller than machine precision.\n",
      "WARNING:fides_10:Stopping as trust region radius 6.14E-17 is smaller than machine precision.\n",
      "100%|██████████| 10/10 [01:01<00:00,  6.11s/it]\n"
     ]
    }
   ],
   "source": [
    "history_options = pypesto.objective.HistoryOptions(\n",
    "    trace_record=True,\n",
    ")\n",
    "\n",
    "pypesto_result = pypesto.optimize.minimize(\n",
    "    problem=pypesto_problem,\n",
    "    n_starts=10,\n",
    "    optimizer=optimizer,\n",
    "    history_options=history_options,\n",
    "    filename=None,\n",
    ")"
   ]
  },
  {
   "cell_type": "code",
   "execution_count": 11,
   "id": "f95f009c",
   "metadata": {},
   "outputs": [
    {
     "data": {
      "text/plain": [
       "{'id': '4',\n",
       " 'x': array([ 1.        ,  0.81097814, -1.        , -0.29986387,  0.81402973,\n",
       "         0.69897   , -0.31225298]),\n",
       " 'fval': 18.44249676496477,\n",
       " 'grad': array([            nan,             nan,             nan, -7.56077410e-06,\n",
       "        -5.99282449e-03,             nan,  2.43683892e-03]),\n",
       " 'hess': array([[            nan,             nan,             nan,\n",
       "                     nan,             nan,             nan,\n",
       "                     nan],\n",
       "        [            nan,             nan,             nan,\n",
       "                     nan,             nan,             nan,\n",
       "                     nan],\n",
       "        [            nan,             nan,             nan,\n",
       "                     nan,             nan,             nan,\n",
       "                     nan],\n",
       "        [            nan,             nan,             nan,\n",
       "          2.75083045e+00, -8.50865177e-03,             nan,\n",
       "         -8.12613085e-03],\n",
       "        [            nan,             nan,             nan,\n",
       "         -8.50865177e-03,  5.66690326e+02,             nan,\n",
       "         -8.39803525e+00],\n",
       "        [            nan,             nan,             nan,\n",
       "                     nan,             nan,             nan,\n",
       "                     nan],\n",
       "        [            nan,             nan,             nan,\n",
       "         -8.12613085e-03, -8.39803525e+00,             nan,\n",
       "          4.02336040e+00]]),\n",
       " 'res': None,\n",
       " 'sres': None,\n",
       " 'n_fval': 68,\n",
       " 'n_grad': 68,\n",
       " 'n_hess': 0,\n",
       " 'n_res': 0,\n",
       " 'n_sres': 0,\n",
       " 'x0': array([ 1.        ,  0.81097814, -1.        ,  1.87698425,  3.52450632,\n",
       "         0.69897   , -2.92465535]),\n",
       " 'fval0': 16584778.388176236,\n",
       " 'history': <pypesto.objective.history.MemoryHistory at 0x7ffb5863f2e0>,\n",
       " 'exitflag': <ExitFlag.FTOL: 1>,\n",
       " 'time': 3.659708023071289,\n",
       " 'message': 'Finished Successfully.',\n",
       " 'optimizer': '<FidesOptimizer  hessian_update=default verbose=30 options={}>'}"
      ]
     },
     "execution_count": 11,
     "metadata": {},
     "output_type": "execute_result"
    }
   ],
   "source": [
    "pypesto_result.optimize_result.list[0]"
   ]
  },
  {
   "cell_type": "code",
   "execution_count": 12,
   "id": "ebb4385f",
   "metadata": {},
   "outputs": [],
   "source": [
    "scaled_optimum = dict(zip(pypesto_problem.x_names, pypesto_result.optimize_result.list[0].x))\n",
    "unscaled_optimum = control_problem.optimizer_control_petab_problem.unscale_parameters(scaled_optimum)"
   ]
  },
  {
   "cell_type": "code",
   "execution_count": 13,
   "id": "52a0874e",
   "metadata": {},
   "outputs": [],
   "source": [
    "problem_parameters = {\n",
    "    **default_problem_parameters,\n",
    "    **unscaled_optimum,\n",
    "}"
   ]
  },
  {
   "cell_type": "code",
   "execution_count": 14,
   "id": "5a2e3369",
   "metadata": {},
   "outputs": [],
   "source": [
    "problem_parameters = {\n",
    "    **default_problem_parameters,\n",
    "    **scaled_optimum,\n",
    "}"
   ]
  },
  {
   "cell_type": "code",
   "execution_count": 15,
   "id": "8e728471",
   "metadata": {
    "scrolled": false
   },
   "outputs": [
    {
     "name": "stderr",
     "output_type": "stream",
     "text": [
      "WARNING:py.warnings:/home/dilan/Documents/future_annex/optimal_control/packages/petab_control/petab_control/problem.py:761: UserWarning: The parameter `influx` takes the value of the control parameter `influx_00` (period index: 1). However, values for both the parameter and the control parameter were provided. The value for the control parameter will be used.\n",
      "  warnings.warn(\n",
      "\n",
      "WARNING:py.warnings:/home/dilan/Documents/future_annex/optimal_control/packages/petab_control/petab_control/problem.py:761: UserWarning: The parameter `influx` takes the value of the control parameter `influx_20` (period index: 2). However, values for both the parameter and the control parameter were provided. The value for the control parameter will be used.\n",
      "  warnings.warn(\n",
      "\n",
      "WARNING:py.warnings:/home/dilan/Documents/future_annex/optimal_control/packages/petab_control/petab_control/problem.py:761: UserWarning: The parameter `influx` takes the value of the control parameter `influx_40` (period index: 3). However, values for both the parameter and the control parameter were provided. The value for the control parameter will be used.\n",
      "  warnings.warn(\n",
      "\n",
      "WARNING:py.warnings:/home/dilan/Documents/future_annex/optimal_control/packages/petab_control/petab_control/problem.py:761: UserWarning: The parameter `influx` takes the value of the control parameter `influx_40` (period index: 4). However, values for both the parameter and the control parameter were provided. The value for the control parameter will be used.\n",
      "  warnings.warn(\n",
      "\n",
      "WARNING:py.warnings:/home/dilan/Documents/future_annex/optimal_control/packages/petab_control/petab_control/problem.py:761: UserWarning: The parameter `influx` takes the value of the control parameter `influx_60` (period index: 5). However, values for both the parameter and the control parameter were provided. The value for the control parameter will be used.\n",
      "  warnings.warn(\n",
      "\n",
      "WARNING:py.warnings:/home/dilan/Documents/future_annex/optimal_control/packages/petab_control/petab_control/problem.py:761: UserWarning: The parameter `influx` takes the value of the control parameter `influx_40` (period index: 6). However, values for both the parameter and the control parameter were provided. The value for the control parameter will be used.\n",
      "  warnings.warn(\n",
      "\n",
      "WARNING:py.warnings:/home/dilan/Documents/future_annex/optimal_control/packages/petab_control/petab_control/problem.py:761: UserWarning: The parameter `influx` takes the value of the control parameter `influx_80` (period index: 7). However, values for both the parameter and the control parameter were provided. The value for the control parameter will be used.\n",
      "  warnings.warn(\n",
      "\n"
     ]
    }
   ],
   "source": [
    "results = control_problem.simulate(problem_parameters=problem_parameters)"
   ]
  },
  {
   "cell_type": "code",
   "execution_count": 16,
   "id": "3e94aca6",
   "metadata": {},
   "outputs": [
    {
     "data": {
      "text/plain": [
       "<matplotlib.collections.PathCollection at 0x7ffb54b51df0>"
      ]
     },
     "execution_count": 16,
     "metadata": {},
     "output_type": "execute_result"
    },
    {
     "data": {
      "image/png": "[encoded data removed]",
      "text/plain": [
       "<Figure size 720x720 with 1 Axes>"
      ]
     },
     "metadata": {
      "needs_background": "light"
     },
     "output_type": "display_data"
    }
   ],
   "source": [
    "x_ = collect_x(results[PERIODS_RESULTS])\n",
    "sx_ = collect_sx(results[PERIODS_RESULTS])\n",
    "t_ = collect_t(results[PERIODS_RESULTS])\n",
    "\n",
    "T, X, SX = remove_duplicates(t_, x_, sx_)\n",
    "\n",
    "import matplotlib.pyplot as plt\n",
    "fig, ax = plt.subplots(figsize=(10,10))\n",
    "ax.plot(T, X, lw=5, label='Simulated state')\n",
    "ax.legend()\n",
    "ax.set_title('State trajectory')\n",
    "\n",
    "mT = control_problem.simulator.petab_problem.measurement_df[TIME]\n",
    "mX = control_problem.simulator.petab_problem.measurement_df[MEASUREMENT]\n",
    "\n",
    "#ax.set_yscale('log')\n",
    "\n",
    "ax.scatter(mT, mX, lw=5, label='Measured state')"
   ]
  },
  {
   "cell_type": "code",
   "execution_count": 17,
   "id": "e06d46f7",
   "metadata": {},
   "outputs": [],
   "source": [
    "from petab_timecourse.amici import add_output_timepoints_if_missing\n",
    "if True:\n",
    "    # Fake timepoints for more simulation output\n",
    "    for edata, period in zip(\n",
    "        control_problem.simulator.amici_edata_periods,\n",
    "        control_problem.simulator.timecourse.periods,\n",
    "    ):\n",
    "        current_timepoints = edata.getTimepoints()\n",
    "        add_output_timepoints_if_missing(\n",
    "            amici_edata=edata,\n",
    "            timepoints=np.linspace(current_timepoints[0], current_timepoints[-1], 101)\n",
    "        )"
   ]
  },
  {
   "cell_type": "code",
   "execution_count": 18,
   "id": "ff9cef23",
   "metadata": {
    "scrolled": false
   },
   "outputs": [
    {
     "name": "stderr",
     "output_type": "stream",
     "text": [
      "WARNING:py.warnings:/home/dilan/Documents/future_annex/optimal_control/packages/petab_control/petab_control/problem.py:761: UserWarning: The parameter `influx` takes the value of the control parameter `influx_00` (period index: 1). However, values for both the parameter and the control parameter were provided. The value for the control parameter will be used.\n",
      "  warnings.warn(\n",
      "\n",
      "WARNING:py.warnings:/home/dilan/Documents/future_annex/optimal_control/packages/petab_control/petab_control/problem.py:761: UserWarning: The parameter `influx` takes the value of the control parameter `influx_20` (period index: 2). However, values for both the parameter and the control parameter were provided. The value for the control parameter will be used.\n",
      "  warnings.warn(\n",
      "\n",
      "WARNING:py.warnings:/home/dilan/Documents/future_annex/optimal_control/packages/petab_control/petab_control/problem.py:761: UserWarning: The parameter `influx` takes the value of the control parameter `influx_40` (period index: 3). However, values for both the parameter and the control parameter were provided. The value for the control parameter will be used.\n",
      "  warnings.warn(\n",
      "\n",
      "WARNING:py.warnings:/home/dilan/Documents/future_annex/optimal_control/packages/petab_control/petab_control/problem.py:761: UserWarning: The parameter `influx` takes the value of the control parameter `influx_40` (period index: 4). However, values for both the parameter and the control parameter were provided. The value for the control parameter will be used.\n",
      "  warnings.warn(\n",
      "\n",
      "WARNING:py.warnings:/home/dilan/Documents/future_annex/optimal_control/packages/petab_control/petab_control/problem.py:761: UserWarning: The parameter `influx` takes the value of the control parameter `influx_60` (period index: 5). However, values for both the parameter and the control parameter were provided. The value for the control parameter will be used.\n",
      "  warnings.warn(\n",
      "\n",
      "WARNING:py.warnings:/home/dilan/Documents/future_annex/optimal_control/packages/petab_control/petab_control/problem.py:761: UserWarning: The parameter `influx` takes the value of the control parameter `influx_40` (period index: 6). However, values for both the parameter and the control parameter were provided. The value for the control parameter will be used.\n",
      "  warnings.warn(\n",
      "\n",
      "WARNING:py.warnings:/home/dilan/Documents/future_annex/optimal_control/packages/petab_control/petab_control/problem.py:761: UserWarning: The parameter `influx` takes the value of the control parameter `influx_80` (period index: 7). However, values for both the parameter and the control parameter were provided. The value for the control parameter will be used.\n",
      "  warnings.warn(\n",
      "\n"
     ]
    },
    {
     "data": {
      "text/plain": [
       "<matplotlib.collections.PathCollection at 0x7ffb549e1e80>"
      ]
     },
     "execution_count": 18,
     "metadata": {},
     "output_type": "execute_result"
    },
    {
     "data": {
      "image/png": "[encoded data removed]",
      "text/plain": [
       "<Figure size 720x720 with 1 Axes>"
      ]
     },
     "metadata": {
      "needs_background": "light"
     },
     "output_type": "display_data"
    }
   ],
   "source": [
    "results = control_problem.simulate(problem_parameters=problem_parameters)\n",
    "\n",
    "x_ = collect_x(results[PERIODS_RESULTS])\n",
    "sx_ = collect_sx(results[PERIODS_RESULTS])\n",
    "t_ = collect_t(results[PERIODS_RESULTS])\n",
    "\n",
    "T, X, SX = remove_duplicates(t_, x_, sx_)\n",
    "\n",
    "import matplotlib.pyplot as plt\n",
    "fig, ax = plt.subplots(figsize=(10,10))\n",
    "ax.plot(T, X, lw=5, label='Simulated state')\n",
    "ax.legend()\n",
    "ax.set_title('State trajectory')\n",
    "\n",
    "mT = control_problem.simulator.petab_problem.measurement_df[TIME]\n",
    "mX = control_problem.simulator.petab_problem.measurement_df[MEASUREMENT]\n",
    "\n",
    "#ax.set_yscale('log')\n",
    "\n",
    "ax.scatter(mT, mX, lw=5, label='Measured state')"
   ]
  }
 ],
 "metadata": {
  "kernelspec": {
   "display_name": "Python 3",
   "language": "python",
   "name": "python3"
  },
  "language_info": {
   "codemirror_mode": {
    "name": "ipython",
    "version": 3
   },
   "file_extension": ".py",
   "mimetype": "text/x-python",
   "name": "python",
   "nbconvert_exporter": "python",
   "pygments_lexer": "ipython3",
   "version": "3.8.10"
  }
 },
 "nbformat": 4,
 "nbformat_minor": 5
}
